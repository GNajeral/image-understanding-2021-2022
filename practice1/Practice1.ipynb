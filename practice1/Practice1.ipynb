{
  "cells": [
    {
      "cell_type": "markdown",
      "metadata": {
        "id": "j7ihaPD40_a6"
      },
      "source": [
        "# Image Understanding. Course 2021-2022: Practice 1"
      ]
    },
    {
      "cell_type": "markdown",
      "metadata": {
        "id": "TLQ0UaNn1Ca6"
      },
      "source": [
        "### Add the following information:\n",
        "#### Names:\n",
        "#### Group number: "
      ]
    },
    {
      "cell_type": "code",
      "execution_count": 5,
      "metadata": {
        "id": "8emNm8IJ1BSq"
      },
      "outputs": [],
      "source": [
        "# Here you have to write all the libraries you are going to use in the rest of \n",
        "# the notebook\n",
        "import numpy as np\n",
        "import matplotlib.pyplot as plt\n",
        "import cv2 as cv\n"
      ]
    },
    {
      "cell_type": "markdown",
      "metadata": {
        "id": "hlG4tYbN5SeS"
      },
      "source": [
        "###### Point 1: Read, Transform and Show the three components from the RGB original image.\n"
      ]
    },
    {
      "cell_type": "code",
      "execution_count": 6,
      "metadata": {
        "id": "kePFPI03143J"
      },
      "outputs": [],
      "source": [
        "def open_preprocess_image(filename: str) -> np.array:\n",
        "  # TODO: Write the code that opens the image and make the transformations \n",
        "  # required for your group. The output should be in the range [0,255] \n",
        "  # and an uint8 type\n",
        "  # Hint: check the past notebooks of the subject \n",
        "  # or check the folloowing sources:  https://scikit-image.org/docs/stable/, \n",
        "  # https://docs.opencv.org/4.5.5/\n",
        "  img = cv.imread(\"images_practice1/Monument.jpg\")\n",
        "  \n",
        "\n",
        "\n",
        "  im = None # variable im should be a numpy array with the RGB image data\n",
        "  return im"
      ]
    },
    {
      "cell_type": "code",
      "execution_count": 7,
      "metadata": {
        "id": "KM7jz2rp3WzV"
      },
      "outputs": [],
      "source": [
        "# TODO: Complete\n",
        "\n",
        "filename = '' # set the name of your image file\n",
        "\n",
        "im_rgb = open_preprocess_image(filename)\n",
        "\n",
        "red_channel = None # set the red channel\n",
        "blue_channel = None # set the blue channel\n",
        "green_channel = None # set the green channel"
      ]
    },
    {
      "cell_type": "code",
      "execution_count": 8,
      "metadata": {
        "id": "W949CiJD7APs"
      },
      "outputs": [
        {
          "ename": "TypeError",
          "evalue": "Image data of dtype object cannot be converted to float",
          "output_type": "error",
          "traceback": [
            "\u001b[0;31m---------------------------------------------------------------------------\u001b[0m",
            "\u001b[0;31mTypeError\u001b[0m                                 Traceback (most recent call last)",
            "\u001b[1;32m/Users/gnajeral/Documents/GitHub/image-understanding-2021-2022/practice1/Practice1.ipynb Cell 7'\u001b[0m in \u001b[0;36m<cell line: 3>\u001b[0;34m()\u001b[0m\n\u001b[1;32m      <a href='vscode-notebook-cell:/Users/gnajeral/Documents/GitHub/image-understanding-2021-2022/practice1/Practice1.ipynb#ch0000006?line=0'>1</a>\u001b[0m fig, (ax1, ax2, ax3) \u001b[39m=\u001b[39m plt\u001b[39m.\u001b[39msubplots(\u001b[39m1\u001b[39m, \u001b[39m3\u001b[39m, figsize\u001b[39m=\u001b[39m(\u001b[39m12\u001b[39m, \u001b[39m3\u001b[39m))\n\u001b[1;32m      <a href='vscode-notebook-cell:/Users/gnajeral/Documents/GitHub/image-understanding-2021-2022/practice1/Practice1.ipynb#ch0000006?line=1'>2</a>\u001b[0m fig\u001b[39m.\u001b[39msuptitle(\u001b[39m'\u001b[39m\u001b[39mRGB channels\u001b[39m\u001b[39m'\u001b[39m)\n\u001b[0;32m----> <a href='vscode-notebook-cell:/Users/gnajeral/Documents/GitHub/image-understanding-2021-2022/practice1/Practice1.ipynb#ch0000006?line=2'>3</a>\u001b[0m ims \u001b[39m=\u001b[39m ax1\u001b[39m.\u001b[39;49mimshow(red_channel, cmap\u001b[39m=\u001b[39;49m\u001b[39m'\u001b[39;49m\u001b[39mgray\u001b[39;49m\u001b[39m'\u001b[39;49m, vmax\u001b[39m=\u001b[39;49m\u001b[39m255\u001b[39;49m, vmin\u001b[39m=\u001b[39;49m\u001b[39m0\u001b[39;49m)\n\u001b[1;32m      <a href='vscode-notebook-cell:/Users/gnajeral/Documents/GitHub/image-understanding-2021-2022/practice1/Practice1.ipynb#ch0000006?line=3'>4</a>\u001b[0m ax1\u001b[39m.\u001b[39maxis(\u001b[39m'\u001b[39m\u001b[39moff\u001b[39m\u001b[39m'\u001b[39m)\n\u001b[1;32m      <a href='vscode-notebook-cell:/Users/gnajeral/Documents/GitHub/image-understanding-2021-2022/practice1/Practice1.ipynb#ch0000006?line=4'>5</a>\u001b[0m ax1\u001b[39m.\u001b[39mset_title(\u001b[39m'\u001b[39m\u001b[39mRed Channel\u001b[39m\u001b[39m'\u001b[39m)\n",
            "File \u001b[0;32m/Library/Frameworks/Python.framework/Versions/3.10/lib/python3.10/site-packages/matplotlib/_api/deprecation.py:456\u001b[0m, in \u001b[0;36mmake_keyword_only.<locals>.wrapper\u001b[0;34m(*args, **kwargs)\u001b[0m\n\u001b[1;32m    <a href='file:///Library/Frameworks/Python.framework/Versions/3.10/lib/python3.10/site-packages/matplotlib/_api/deprecation.py?line=449'>450</a>\u001b[0m \u001b[39mif\u001b[39;00m \u001b[39mlen\u001b[39m(args) \u001b[39m>\u001b[39m name_idx:\n\u001b[1;32m    <a href='file:///Library/Frameworks/Python.framework/Versions/3.10/lib/python3.10/site-packages/matplotlib/_api/deprecation.py?line=450'>451</a>\u001b[0m     warn_deprecated(\n\u001b[1;32m    <a href='file:///Library/Frameworks/Python.framework/Versions/3.10/lib/python3.10/site-packages/matplotlib/_api/deprecation.py?line=451'>452</a>\u001b[0m         since, message\u001b[39m=\u001b[39m\u001b[39m\"\u001b[39m\u001b[39mPassing the \u001b[39m\u001b[39m%(name)s\u001b[39;00m\u001b[39m \u001b[39m\u001b[39m%(obj_type)s\u001b[39;00m\u001b[39m \u001b[39m\u001b[39m\"\u001b[39m\n\u001b[1;32m    <a href='file:///Library/Frameworks/Python.framework/Versions/3.10/lib/python3.10/site-packages/matplotlib/_api/deprecation.py?line=452'>453</a>\u001b[0m         \u001b[39m\"\u001b[39m\u001b[39mpositionally is deprecated since Matplotlib \u001b[39m\u001b[39m%(since)s\u001b[39;00m\u001b[39m; the \u001b[39m\u001b[39m\"\u001b[39m\n\u001b[1;32m    <a href='file:///Library/Frameworks/Python.framework/Versions/3.10/lib/python3.10/site-packages/matplotlib/_api/deprecation.py?line=453'>454</a>\u001b[0m         \u001b[39m\"\u001b[39m\u001b[39mparameter will become keyword-only \u001b[39m\u001b[39m%(removal)s\u001b[39;00m\u001b[39m.\u001b[39m\u001b[39m\"\u001b[39m,\n\u001b[1;32m    <a href='file:///Library/Frameworks/Python.framework/Versions/3.10/lib/python3.10/site-packages/matplotlib/_api/deprecation.py?line=454'>455</a>\u001b[0m         name\u001b[39m=\u001b[39mname, obj_type\u001b[39m=\u001b[39m\u001b[39mf\u001b[39m\u001b[39m\"\u001b[39m\u001b[39mparameter of \u001b[39m\u001b[39m{\u001b[39;00mfunc\u001b[39m.\u001b[39m\u001b[39m__name__\u001b[39m\u001b[39m}\u001b[39;00m\u001b[39m()\u001b[39m\u001b[39m\"\u001b[39m)\n\u001b[0;32m--> <a href='file:///Library/Frameworks/Python.framework/Versions/3.10/lib/python3.10/site-packages/matplotlib/_api/deprecation.py?line=455'>456</a>\u001b[0m \u001b[39mreturn\u001b[39;00m func(\u001b[39m*\u001b[39;49margs, \u001b[39m*\u001b[39;49m\u001b[39m*\u001b[39;49mkwargs)\n",
            "File \u001b[0;32m/Library/Frameworks/Python.framework/Versions/3.10/lib/python3.10/site-packages/matplotlib/__init__.py:1412\u001b[0m, in \u001b[0;36m_preprocess_data.<locals>.inner\u001b[0;34m(ax, data, *args, **kwargs)\u001b[0m\n\u001b[1;32m   <a href='file:///Library/Frameworks/Python.framework/Versions/3.10/lib/python3.10/site-packages/matplotlib/__init__.py?line=1408'>1409</a>\u001b[0m \u001b[39m@functools\u001b[39m\u001b[39m.\u001b[39mwraps(func)\n\u001b[1;32m   <a href='file:///Library/Frameworks/Python.framework/Versions/3.10/lib/python3.10/site-packages/matplotlib/__init__.py?line=1409'>1410</a>\u001b[0m \u001b[39mdef\u001b[39;00m \u001b[39minner\u001b[39m(ax, \u001b[39m*\u001b[39margs, data\u001b[39m=\u001b[39m\u001b[39mNone\u001b[39;00m, \u001b[39m*\u001b[39m\u001b[39m*\u001b[39mkwargs):\n\u001b[1;32m   <a href='file:///Library/Frameworks/Python.framework/Versions/3.10/lib/python3.10/site-packages/matplotlib/__init__.py?line=1410'>1411</a>\u001b[0m     \u001b[39mif\u001b[39;00m data \u001b[39mis\u001b[39;00m \u001b[39mNone\u001b[39;00m:\n\u001b[0;32m-> <a href='file:///Library/Frameworks/Python.framework/Versions/3.10/lib/python3.10/site-packages/matplotlib/__init__.py?line=1411'>1412</a>\u001b[0m         \u001b[39mreturn\u001b[39;00m func(ax, \u001b[39m*\u001b[39;49m\u001b[39mmap\u001b[39;49m(sanitize_sequence, args), \u001b[39m*\u001b[39;49m\u001b[39m*\u001b[39;49mkwargs)\n\u001b[1;32m   <a href='file:///Library/Frameworks/Python.framework/Versions/3.10/lib/python3.10/site-packages/matplotlib/__init__.py?line=1413'>1414</a>\u001b[0m     bound \u001b[39m=\u001b[39m new_sig\u001b[39m.\u001b[39mbind(ax, \u001b[39m*\u001b[39margs, \u001b[39m*\u001b[39m\u001b[39m*\u001b[39mkwargs)\n\u001b[1;32m   <a href='file:///Library/Frameworks/Python.framework/Versions/3.10/lib/python3.10/site-packages/matplotlib/__init__.py?line=1414'>1415</a>\u001b[0m     auto_label \u001b[39m=\u001b[39m (bound\u001b[39m.\u001b[39marguments\u001b[39m.\u001b[39mget(label_namer)\n\u001b[1;32m   <a href='file:///Library/Frameworks/Python.framework/Versions/3.10/lib/python3.10/site-packages/matplotlib/__init__.py?line=1415'>1416</a>\u001b[0m                   \u001b[39mor\u001b[39;00m bound\u001b[39m.\u001b[39mkwargs\u001b[39m.\u001b[39mget(label_namer))\n",
            "File \u001b[0;32m/Library/Frameworks/Python.framework/Versions/3.10/lib/python3.10/site-packages/matplotlib/axes/_axes.py:5488\u001b[0m, in \u001b[0;36mAxes.imshow\u001b[0;34m(self, X, cmap, norm, aspect, interpolation, alpha, vmin, vmax, origin, extent, interpolation_stage, filternorm, filterrad, resample, url, **kwargs)\u001b[0m\n\u001b[1;32m   <a href='file:///Library/Frameworks/Python.framework/Versions/3.10/lib/python3.10/site-packages/matplotlib/axes/_axes.py?line=5480'>5481</a>\u001b[0m \u001b[39mself\u001b[39m\u001b[39m.\u001b[39mset_aspect(aspect)\n\u001b[1;32m   <a href='file:///Library/Frameworks/Python.framework/Versions/3.10/lib/python3.10/site-packages/matplotlib/axes/_axes.py?line=5481'>5482</a>\u001b[0m im \u001b[39m=\u001b[39m mimage\u001b[39m.\u001b[39mAxesImage(\u001b[39mself\u001b[39m, cmap, norm, interpolation,\n\u001b[1;32m   <a href='file:///Library/Frameworks/Python.framework/Versions/3.10/lib/python3.10/site-packages/matplotlib/axes/_axes.py?line=5482'>5483</a>\u001b[0m                       origin, extent, filternorm\u001b[39m=\u001b[39mfilternorm,\n\u001b[1;32m   <a href='file:///Library/Frameworks/Python.framework/Versions/3.10/lib/python3.10/site-packages/matplotlib/axes/_axes.py?line=5483'>5484</a>\u001b[0m                       filterrad\u001b[39m=\u001b[39mfilterrad, resample\u001b[39m=\u001b[39mresample,\n\u001b[1;32m   <a href='file:///Library/Frameworks/Python.framework/Versions/3.10/lib/python3.10/site-packages/matplotlib/axes/_axes.py?line=5484'>5485</a>\u001b[0m                       interpolation_stage\u001b[39m=\u001b[39minterpolation_stage,\n\u001b[1;32m   <a href='file:///Library/Frameworks/Python.framework/Versions/3.10/lib/python3.10/site-packages/matplotlib/axes/_axes.py?line=5485'>5486</a>\u001b[0m                       \u001b[39m*\u001b[39m\u001b[39m*\u001b[39mkwargs)\n\u001b[0;32m-> <a href='file:///Library/Frameworks/Python.framework/Versions/3.10/lib/python3.10/site-packages/matplotlib/axes/_axes.py?line=5487'>5488</a>\u001b[0m im\u001b[39m.\u001b[39;49mset_data(X)\n\u001b[1;32m   <a href='file:///Library/Frameworks/Python.framework/Versions/3.10/lib/python3.10/site-packages/matplotlib/axes/_axes.py?line=5488'>5489</a>\u001b[0m im\u001b[39m.\u001b[39mset_alpha(alpha)\n\u001b[1;32m   <a href='file:///Library/Frameworks/Python.framework/Versions/3.10/lib/python3.10/site-packages/matplotlib/axes/_axes.py?line=5489'>5490</a>\u001b[0m \u001b[39mif\u001b[39;00m im\u001b[39m.\u001b[39mget_clip_path() \u001b[39mis\u001b[39;00m \u001b[39mNone\u001b[39;00m:\n\u001b[1;32m   <a href='file:///Library/Frameworks/Python.framework/Versions/3.10/lib/python3.10/site-packages/matplotlib/axes/_axes.py?line=5490'>5491</a>\u001b[0m     \u001b[39m# image does not already have clipping set, clip to axes patch\u001b[39;00m\n",
            "File \u001b[0;32m/Library/Frameworks/Python.framework/Versions/3.10/lib/python3.10/site-packages/matplotlib/image.py:706\u001b[0m, in \u001b[0;36m_ImageBase.set_data\u001b[0;34m(self, A)\u001b[0m\n\u001b[1;32m    <a href='file:///Library/Frameworks/Python.framework/Versions/3.10/lib/python3.10/site-packages/matplotlib/image.py?line=701'>702</a>\u001b[0m \u001b[39mself\u001b[39m\u001b[39m.\u001b[39m_A \u001b[39m=\u001b[39m cbook\u001b[39m.\u001b[39msafe_masked_invalid(A, copy\u001b[39m=\u001b[39m\u001b[39mTrue\u001b[39;00m)\n\u001b[1;32m    <a href='file:///Library/Frameworks/Python.framework/Versions/3.10/lib/python3.10/site-packages/matplotlib/image.py?line=703'>704</a>\u001b[0m \u001b[39mif\u001b[39;00m (\u001b[39mself\u001b[39m\u001b[39m.\u001b[39m_A\u001b[39m.\u001b[39mdtype \u001b[39m!=\u001b[39m np\u001b[39m.\u001b[39muint8 \u001b[39mand\u001b[39;00m\n\u001b[1;32m    <a href='file:///Library/Frameworks/Python.framework/Versions/3.10/lib/python3.10/site-packages/matplotlib/image.py?line=704'>705</a>\u001b[0m         \u001b[39mnot\u001b[39;00m np\u001b[39m.\u001b[39mcan_cast(\u001b[39mself\u001b[39m\u001b[39m.\u001b[39m_A\u001b[39m.\u001b[39mdtype, \u001b[39mfloat\u001b[39m, \u001b[39m\"\u001b[39m\u001b[39msame_kind\u001b[39m\u001b[39m\"\u001b[39m)):\n\u001b[0;32m--> <a href='file:///Library/Frameworks/Python.framework/Versions/3.10/lib/python3.10/site-packages/matplotlib/image.py?line=705'>706</a>\u001b[0m     \u001b[39mraise\u001b[39;00m \u001b[39mTypeError\u001b[39;00m(\u001b[39m\"\u001b[39m\u001b[39mImage data of dtype \u001b[39m\u001b[39m{}\u001b[39;00m\u001b[39m cannot be converted to \u001b[39m\u001b[39m\"\u001b[39m\n\u001b[1;32m    <a href='file:///Library/Frameworks/Python.framework/Versions/3.10/lib/python3.10/site-packages/matplotlib/image.py?line=706'>707</a>\u001b[0m                     \u001b[39m\"\u001b[39m\u001b[39mfloat\u001b[39m\u001b[39m\"\u001b[39m\u001b[39m.\u001b[39mformat(\u001b[39mself\u001b[39m\u001b[39m.\u001b[39m_A\u001b[39m.\u001b[39mdtype))\n\u001b[1;32m    <a href='file:///Library/Frameworks/Python.framework/Versions/3.10/lib/python3.10/site-packages/matplotlib/image.py?line=708'>709</a>\u001b[0m \u001b[39mif\u001b[39;00m \u001b[39mself\u001b[39m\u001b[39m.\u001b[39m_A\u001b[39m.\u001b[39mndim \u001b[39m==\u001b[39m \u001b[39m3\u001b[39m \u001b[39mand\u001b[39;00m \u001b[39mself\u001b[39m\u001b[39m.\u001b[39m_A\u001b[39m.\u001b[39mshape[\u001b[39m-\u001b[39m\u001b[39m1\u001b[39m] \u001b[39m==\u001b[39m \u001b[39m1\u001b[39m:\n\u001b[1;32m    <a href='file:///Library/Frameworks/Python.framework/Versions/3.10/lib/python3.10/site-packages/matplotlib/image.py?line=709'>710</a>\u001b[0m     \u001b[39m# If just one dimension assume scalar and apply colormap\u001b[39;00m\n\u001b[1;32m    <a href='file:///Library/Frameworks/Python.framework/Versions/3.10/lib/python3.10/site-packages/matplotlib/image.py?line=710'>711</a>\u001b[0m     \u001b[39mself\u001b[39m\u001b[39m.\u001b[39m_A \u001b[39m=\u001b[39m \u001b[39mself\u001b[39m\u001b[39m.\u001b[39m_A[:, :, \u001b[39m0\u001b[39m]\n",
            "\u001b[0;31mTypeError\u001b[0m: Image data of dtype object cannot be converted to float"
          ]
        },
        {
          "data": {
            "image/png": "[encoded data removed]",
            "text/plain": [
              "<Figure size 864x216 with 3 Axes>"
            ]
          },
          "metadata": {
            "needs_background": "light"
          },
          "output_type": "display_data"
        }
      ],
      "source": [
        "fig, (ax1, ax2, ax3) = plt.subplots(1, 3, figsize=(12, 3))\n",
        "fig.suptitle('RGB channels')\n",
        "ims = ax1.imshow(red_channel, cmap='gray', vmax=255, vmin=0)\n",
        "ax1.axis('off')\n",
        "ax1.set_title('Red Channel')\n",
        "ims = ax2.imshow(blue_channel, cmap='gray', vmax=255, vmin=0)\n",
        "ax2.set_title('Blue Channel')\n",
        "ax2.axis('off')\n",
        "ims = ax3.imshow(green_channel, cmap='gray', vmax=255, vmin=0)\n",
        "ax3.set_title('Green Channel')\n",
        "ax3.axis('off')\n",
        "plt.subplots_adjust(top=0.85)\n",
        "fig.colorbar(ims, ax=[ax1, ax2, ax3])\n",
        "plt.show()"
      ]
    },
    {
      "cell_type": "markdown",
      "metadata": {
        "id": "8SKa7M_d5Xeq"
      },
      "source": [
        "###### Point 2: Transform the original color image selected to the HSV color space and show the three components from the HSV image."
      ]
    },
    {
      "cell_type": "code",
      "execution_count": null,
      "metadata": {
        "id": "dpruuunPIcih"
      },
      "outputs": [],
      "source": [
        "def rgb_to_vhs(im_rgb: np.array) -> np.array:\n",
        "  # TODO: Write the code that transform an RGB image (numpy array) into an VHS \n",
        "  # color space. The output should be in the range [0,255] and an uint8 numpy array \n",
        "\n",
        "  im_vhs = None\n",
        "\n",
        "  return im_vhs"
      ]
    },
    {
      "cell_type": "code",
      "execution_count": null,
      "metadata": {
        "id": "NH5uXBv93SOX"
      },
      "outputs": [],
      "source": [
        "# TODO: Complete\n",
        "\n",
        "im_vsh = rgb_to_vhs(im_rgb)\n",
        "\n",
        "h_channel = None # set the H channel\n",
        "s_channel = None # set the S channel\n",
        "v_channel = None # set the V channel"
      ]
    },
    {
      "cell_type": "code",
      "execution_count": null,
      "metadata": {
        "id": "QbwtGDy_IGhJ"
      },
      "outputs": [],
      "source": [
        "fig, (ax1, ax2, ax3) = plt.subplots(1, 3, figsize=(12, 3))\n",
        "fig.suptitle('HSV channels')\n",
        "ims = ax1.imshow(h_channel, cmap='gray', vmax=255, vmin=0)\n",
        "ax1.axis('off')\n",
        "ax1.set_title('H Channel')\n",
        "ims = ax2.imshow(s_channel, cmap='gray', vmax=255, vmin=0)\n",
        "ax2.set_title('S Channel')\n",
        "ax2.axis('off')\n",
        "ims = ax3.imshow(v_channel, cmap='gray', vmax=255, vmin=0)\n",
        "ax3.set_title('V Channel')\n",
        "ax3.axis('off')\n",
        "plt.subplots_adjust(top=0.85)\n",
        "fig.colorbar(ims, ax=[ax1, ax2, ax3])\n",
        "plt.show()"
      ]
    },
    {
      "cell_type": "markdown",
      "metadata": {
        "id": "1Pqmjc83Je5P"
      },
      "source": [
        "###### Point 3: Obtain the histogram of the six components: R, G, B, H, S, V."
      ]
    },
    {
      "cell_type": "code",
      "execution_count": null,
      "metadata": {
        "id": "Mi9xc-UWKRLg"
      },
      "outputs": [],
      "source": [
        "def calculate_histogram(channel: np.array) -> np.array:\n",
        "  # TODO: Write the code for obtaining the histogram given an image channel\n",
        "  histogram = None\n",
        "  return histogram\n"
      ]
    },
    {
      "cell_type": "code",
      "execution_count": null,
      "metadata": {
        "id": "xWL-h1kKOXMq"
      },
      "outputs": [],
      "source": [
        "hist_red = calculate_histogram(red_channel)\n",
        "hist_blue = calculate_histogram(blue_channel)\n",
        "hist_green = calculate_histogram(green_channel)\n",
        "hist_h = calculate_histogram(h_channel)\n",
        "hist_s = calculate_histogram(s_channel)\n",
        "hist_v = calculate_histogram(v_channel)"
      ]
    },
    {
      "cell_type": "code",
      "execution_count": null,
      "metadata": {
        "id": "W4KZkxGyOmur"
      },
      "outputs": [],
      "source": [
        "fig, ax = plt.subplots(2, 3, figsize=(15, 5))\n",
        "\n",
        "fig.suptitle('Histograms')\n",
        "ax[0, 0].plot(hist_red)\n",
        "ax[0, 0].set_xlim([0,256])\n",
        "ax[0, 0].set_title('Red Channel Histogram')\n",
        "ax[0, 1].plot(hist_blue)\n",
        "ax[0, 1].set_xlim([0,256])\n",
        "ax[0, 1].set_title('Blue Channel Histogram')\n",
        "ax[0, 2].plot(hist_blue)\n",
        "ax[0, 2].set_xlim([0,256])\n",
        "ax[0, 2].set_title('Green Channel Histogram')\n",
        "ax[1, 0].plot(hist_h)\n",
        "ax[1, 0].set_xlim([0,256])\n",
        "ax[1, 0].set_title('H Channel Histogram')\n",
        "ax[1, 1].plot(hist_s)\n",
        "ax[1, 1].set_xlim([0,256])\n",
        "ax[1, 1].set_title('S Channel Histogram')\n",
        "ax[1, 2].plot(hist_v)\n",
        "ax[1, 2].set_xlim([0,256])\n",
        "ax[1, 2].set_title('V Channel Histogram')\n",
        "fig.tight_layout(h_pad=2)\n",
        "plt.subplots_adjust(top=0.85)\n",
        "plt.show()"
      ]
    },
    {
      "cell_type": "markdown",
      "metadata": {
        "id": "O1XV79HxKSkj"
      },
      "source": [
        "###### Point 4: Select the R-G-B component with the high contrast and use it in the next tasks."
      ]
    },
    {
      "cell_type": "code",
      "execution_count": null,
      "metadata": {
        "id": "YqdRKEahKDwo"
      },
      "outputs": [],
      "source": [
        "def brightness(im: np.array) -> float:\n",
        "    \"\"\" Function to estimate the average light intensity.\n",
        "    \"\"\"\n",
        "    b = np.sum(im) / (im.shape[0] * im.shape[1])\n",
        "    return b\n",
        "\n",
        "def contrast(im: np.array) -> float:\n",
        "    \"\"\" Function to estimate the difference in intensities.\n",
        "    \"\"\"\n",
        "    b = brightness(im)\n",
        "    c = np.sum(np.square(im - b)) / (im.shape[0] * im.shape[1])\n",
        "    return c\n",
        "\n",
        "def find_image_highest_contrast(channels: list) -> int:\n",
        "  # TODO: Write the code for returning the index of the position with the \n",
        "  # highest contrast given a list that contains N channels\n",
        "  index = None\n",
        "  return index"
      ]
    },
    {
      "cell_type": "code",
      "execution_count": null,
      "metadata": {
        "id": "hQnQ-L6jfBT3"
      },
      "outputs": [],
      "source": [
        "channel_name = ['red', 'green', 'blue', 'H', 'S', 'V']\n",
        "channels = [red_channel, green_channel, blue_channel, \n",
        "            h_channel, s_channel, v_channel]\n",
        "\n",
        "idx = find_image_highest_contrast(channels)\n",
        "highest_contrast_image = channels[idx]\n",
        "\n",
        "print(f'Channel with the highest contrast: {channel_name[idx]}')"
      ]
    },
    {
      "cell_type": "markdown",
      "metadata": {
        "id": "dJvjfe-eKrX-"
      },
      "source": [
        "###### Point 5: Generate a set of 5 images through a 4-step iterative process of reducing by 2 the number of rows and columns of the original image. That is, if the original image has $N$ rows and $M$ columns, the sizes of the rest of the images will be $N/2$x$M/2$, $N/4$x$M/4$, $N/8$x$M/8$ and $N/16$x$M/16$."
      ]
    },
    {
      "cell_type": "code",
      "execution_count": null,
      "metadata": {
        "id": "Ov2Rc8usK70T"
      },
      "outputs": [],
      "source": [
        "def halve_image(im: np.array, iterations: int) -> list:\n",
        "  # TODO: Write the code for halving an image. The output halved_ims should be \n",
        "  # a list of numpy arrays (image). The first element of the list should be \n",
        "  # the original image and the next one the ones (according to the number \n",
        "  # of iterations) the reduced versions of im. The reduced versions of \n",
        "  # the images should be an uint8 numpy array .\n",
        "\n",
        "  halved_ims = None\n",
        "  \n",
        "  return halved_ims"
      ]
    },
    {
      "cell_type": "code",
      "execution_count": null,
      "metadata": {
        "id": "OW0xQ14NhZOL"
      },
      "outputs": [],
      "source": [
        "resized_images = halve_image(im=highest_contrast_image, iterations=4)\n",
        "\n",
        "fig, ax = plt.subplots(2, 3, figsize=(15, 5))\n",
        "\n",
        "fig.suptitle('Reduced images')\n",
        "ims = ax[0, 0].imshow(resized_images[0], cmap='gray', vmax=255, vmin=0)\n",
        "ax[0, 0].axis('off')\n",
        "ax[0, 0].set_title('Original image')\n",
        "ims = ax[0, 1].imshow(resized_images[1], cmap='gray', vmax=255, vmin=0)\n",
        "ax[0, 1].axis('off')\n",
        "ax[0, 1].set_title('N/2 x M/2')\n",
        "ims = ax[0, 2].imshow(resized_images[2], cmap='gray', vmax=255, vmin=0)\n",
        "ax[0, 2].axis('off')\n",
        "ax[0, 2].set_title('N/4 x M/4')\n",
        "ims = ax[1, 0].imshow(resized_images[3], cmap='gray', vmax=255, vmin=0)\n",
        "ax[1, 0].axis('off')\n",
        "ax[1, 0].set_title('N/8 x M/8')\n",
        "ims = ax[1, 1].imshow(resized_images[4], cmap='gray', vmax=255, vmin=0)\n",
        "ax[1, 1].axis('off')\n",
        "ax[1, 1].set_title('N/16 x M/16')\n",
        "ax[-1, -1].axis('off')\n",
        "\n",
        "\n",
        "fig.tight_layout(h_pad=2)\n",
        "plt.subplots_adjust(top=0.85)\n",
        "plt.show()"
      ]
    },
    {
      "cell_type": "markdown",
      "metadata": {
        "id": "7h-LRjNX497I"
      },
      "source": [
        "###### Point 6: Generate a set of 4 images, by reducing the number of bits used to represent the gray values of the original image by 2, three times."
      ]
    },
    {
      "cell_type": "code",
      "execution_count": null,
      "metadata": {
        "id": "MM0LJLLZ482p"
      },
      "outputs": [],
      "source": [
        "def color_depth_image(im: np.array, iterations: int) -> list:\n",
        "  # TODO: Write the code for halving an image. The output halved_ims should be \n",
        "  # a list of numpy arrays (image). The first element of the list should be \n",
        "  # the original image and the next one the ones (according to the number \n",
        "  # of iterations) the reduced versions in depth of im. The reduced versions of \n",
        "  # the images should be an uint8 numpy array .\n",
        "\n",
        "  dc_ims = None\n",
        "\n",
        "  return dc_ims"
      ]
    },
    {
      "cell_type": "code",
      "execution_count": null,
      "metadata": {
        "id": "Ca3Eq7447O7W"
      },
      "outputs": [],
      "source": [
        "cd_images = color_depth_image(im=highest_contrast_image, iterations=3)\n",
        "\n",
        "fig, ax = plt.subplots(2, 2, figsize=(15, 5))\n",
        "\n",
        "fig.suptitle('Reduced images')\n",
        "ims = ax[0, 0].imshow(cd_images[0], cmap='gray', vmax=255, vmin=0)\n",
        "ax[0, 0].axis('off')\n",
        "ax[0, 0].set_title('8 bits')\n",
        "ims = ax[0, 1].imshow(cd_images[1], cmap='gray', vmax=255, vmin=0)\n",
        "ax[0, 1].axis('off')\n",
        "ax[0, 1].set_title('4 bits')\n",
        "ims = ax[1, 0].imshow(cd_images[2], cmap='gray', vmax=255, vmin=0)\n",
        "ax[1, 0].axis('off')\n",
        "ax[1, 0].set_title('2 bits')\n",
        "ims = ax[1, 1].imshow(cd_images[2], cmap='gray', vmax=255, vmin=0)\n",
        "ax[1, 1].axis('off')\n",
        "ax[1, 1].set_title('1 bit')\n",
        "\n",
        "fig.tight_layout(h_pad=2)\n",
        "plt.subplots_adjust(top=0.85)\n",
        "plt.show()"
      ]
    }
  ],
  "metadata": {
    "colab": {
      "collapsed_sections": [],
      "name": "Practice1.ipynb",
      "provenance": []
    },
    "kernelspec": {
      "display_name": "Python 3",
      "name": "python3"
    },
    "language_info": {
      "codemirror_mode": {
        "name": "ipython",
        "version": 3
      },
      "file_extension": ".py",
      "mimetype": "text/x-python",
      "name": "python",
      "nbconvert_exporter": "python",
      "pygments_lexer": "ipython3",
      "version": "3.10.4"
    }
  },
  "nbformat": 4,
  "nbformat_minor": 0
}
