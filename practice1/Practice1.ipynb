{
  "nbformat": 4,
  "nbformat_minor": 0,
  "metadata": {
    "colab": {
      "name": "Practice1.ipynb",
      "provenance": [],
      "collapsed_sections": []
    },
    "kernelspec": {
      "name": "python3",
      "display_name": "Python 3"
    },
    "language_info": {
      "name": "python"
    }
  },
  "cells": [
    {
      "cell_type": "markdown",
      "source": [
        "# Image Understanding. Course 2021-2022: Practice 1"
      ],
      "metadata": {
        "id": "j7ihaPD40_a6"
      }
    },
    {
      "cell_type": "markdown",
      "source": [
        "### Add the following information:\n",
        "#### Names:\n",
        "#### Group number: "
      ],
      "metadata": {
        "id": "TLQ0UaNn1Ca6"
      }
    },
    {
      "cell_type": "code",
      "source": [
        "# Here you have to write all the libraries you are going to use in the rest of \n",
        "# the notebook\n",
        "import numpy as np\n",
        "import matplotlib.pyplot as plt\n"
      ],
      "metadata": {
        "id": "8emNm8IJ1BSq"
      },
      "execution_count": null,
      "outputs": []
    },
    {
      "cell_type": "markdown",
      "source": [
        "###### Point 1: Read, Transform and Show the three components from the RGB original image.\n"
      ],
      "metadata": {
        "id": "hlG4tYbN5SeS"
      }
    },
    {
      "cell_type": "code",
      "source": [
        "def open_preprocess_image(filename: str) -> np.array:\n",
        "  # TODO: Write the code that opens the image and make the transformations \n",
        "  # required for your group. The output should be in the range [0,255] \n",
        "  # and an uint8 type\n",
        "  # Hint: check the past notebooks of the subject \n",
        "  # or check the folloowing sources:  https://scikit-image.org/docs/stable/, \n",
        "  # https://docs.opencv.org/4.5.5/\n",
        "\n",
        "  im = None # variable im should be a numpy array with the RGB image data\n",
        "  return im"
      ],
      "metadata": {
        "id": "kePFPI03143J"
      },
      "execution_count": null,
      "outputs": []
    },
    {
      "cell_type": "code",
      "source": [
        "# TODO: Complete\n",
        "\n",
        "filename = '' # set the name of your image file\n",
        "\n",
        "im_rgb = open_preprocess_image(filename)\n",
        "\n",
        "red_channel = None # set the red channel\n",
        "blue_channel = None # set the blue channel\n",
        "green_channel = None # set the green channel"
      ],
      "metadata": {
        "id": "KM7jz2rp3WzV"
      },
      "execution_count": null,
      "outputs": []
    },
    {
      "cell_type": "code",
      "source": [
        "fig, (ax1, ax2, ax3) = plt.subplots(1, 3, figsize=(12, 3))\n",
        "fig.suptitle('RGB channels')\n",
        "ims = ax1.imshow(red_channel, cmap='gray', vmax=255, vmin=0)\n",
        "ax1.axis('off')\n",
        "ax1.set_title('Red Channel')\n",
        "ims = ax2.imshow(blue_channel, cmap='gray', vmax=255, vmin=0)\n",
        "ax2.set_title('Blue Channel')\n",
        "ax2.axis('off')\n",
        "ims = ax3.imshow(green_channel, cmap='gray', vmax=255, vmin=0)\n",
        "ax3.set_title('Green Channel')\n",
        "ax3.axis('off')\n",
        "plt.subplots_adjust(top=0.85)\n",
        "fig.colorbar(ims, ax=[ax1, ax2, ax3])\n",
        "plt.show()"
      ],
      "metadata": {
        "id": "W949CiJD7APs"
      },
      "execution_count": null,
      "outputs": []
    },
    {
      "cell_type": "markdown",
      "source": [
        "###### Point 2: Transform the original color image selected to the HSV color space and show the three components from the HSV image."
      ],
      "metadata": {
        "id": "8SKa7M_d5Xeq"
      }
    },
    {
      "cell_type": "code",
      "source": [
        "def rgb_to_vhs(im_rgb: np.array) -> np.array:\n",
        "  # TODO: Write the code that transform an RGB image (numpy array) into an VHS \n",
        "  # color space. The output should be in the range [0,255] and an uint8 numpy array \n",
        "\n",
        "  im_vhs = None\n",
        "\n",
        "  return im_vhs"
      ],
      "metadata": {
        "id": "dpruuunPIcih"
      },
      "execution_count": null,
      "outputs": []
    },
    {
      "cell_type": "code",
      "source": [
        "# TODO: Complete\n",
        "\n",
        "im_vsh = rgb_to_vhs(im_rgb)\n",
        "\n",
        "h_channel = None # set the H channel\n",
        "s_channel = None # set the S channel\n",
        "v_channel = None # set the V channel"
      ],
      "metadata": {
        "id": "NH5uXBv93SOX"
      },
      "execution_count": null,
      "outputs": []
    },
    {
      "cell_type": "code",
      "source": [
        "fig, (ax1, ax2, ax3) = plt.subplots(1, 3, figsize=(12, 3))\n",
        "fig.suptitle('HSV channels')\n",
        "ims = ax1.imshow(h_channel, cmap='gray', vmax=255, vmin=0)\n",
        "ax1.axis('off')\n",
        "ax1.set_title('H Channel')\n",
        "ims = ax2.imshow(s_channel, cmap='gray', vmax=255, vmin=0)\n",
        "ax2.set_title('S Channel')\n",
        "ax2.axis('off')\n",
        "ims = ax3.imshow(v_channel, cmap='gray', vmax=255, vmin=0)\n",
        "ax3.set_title('V Channel')\n",
        "ax3.axis('off')\n",
        "plt.subplots_adjust(top=0.85)\n",
        "fig.colorbar(ims, ax=[ax1, ax2, ax3])\n",
        "plt.show()"
      ],
      "metadata": {
        "id": "QbwtGDy_IGhJ"
      },
      "execution_count": null,
      "outputs": []
    },
    {
      "cell_type": "markdown",
      "source": [
        "###### Point 3: Obtain the histogram of the six components: R, G, B, H, S, V."
      ],
      "metadata": {
        "id": "1Pqmjc83Je5P"
      }
    },
    {
      "cell_type": "code",
      "source": [
        "def calculate_histogram(channel: np.array) -> np.array:\n",
        "  # TODO: Write the code for obtaining the histogram given an image channel\n",
        "  histogram = None\n",
        "  return histogram\n"
      ],
      "metadata": {
        "id": "Mi9xc-UWKRLg"
      },
      "execution_count": null,
      "outputs": []
    },
    {
      "cell_type": "code",
      "source": [
        "hist_red = calculate_histogram(red_channel)\n",
        "hist_blue = calculate_histogram(blue_channel)\n",
        "hist_green = calculate_histogram(green_channel)\n",
        "hist_h = calculate_histogram(h_channel)\n",
        "hist_s = calculate_histogram(s_channel)\n",
        "hist_v = calculate_histogram(v_channel)"
      ],
      "metadata": {
        "id": "xWL-h1kKOXMq"
      },
      "execution_count": null,
      "outputs": []
    },
    {
      "cell_type": "code",
      "source": [
        "fig, ax = plt.subplots(2, 3, figsize=(15, 5))\n",
        "\n",
        "fig.suptitle('Histograms')\n",
        "ax[0, 0].plot(hist_red)\n",
        "ax[0, 0].set_xlim([0,256])\n",
        "ax[0, 0].set_title('Red Channel Histogram')\n",
        "ax[0, 1].plot(hist_blue)\n",
        "ax[0, 1].set_xlim([0,256])\n",
        "ax[0, 1].set_title('Blue Channel Histogram')\n",
        "ax[0, 2].plot(hist_blue)\n",
        "ax[0, 2].set_xlim([0,256])\n",
        "ax[0, 2].set_title('Green Channel Histogram')\n",
        "ax[1, 0].plot(hist_h)\n",
        "ax[1, 0].set_xlim([0,256])\n",
        "ax[1, 0].set_title('H Channel Histogram')\n",
        "ax[1, 1].plot(hist_s)\n",
        "ax[1, 1].set_xlim([0,256])\n",
        "ax[1, 1].set_title('S Channel Histogram')\n",
        "ax[1, 2].plot(hist_v)\n",
        "ax[1, 2].set_xlim([0,256])\n",
        "ax[1, 2].set_title('V Channel Histogram')\n",
        "fig.tight_layout(h_pad=2)\n",
        "plt.subplots_adjust(top=0.85)\n",
        "plt.show()"
      ],
      "metadata": {
        "id": "W4KZkxGyOmur"
      },
      "execution_count": null,
      "outputs": []
    },
    {
      "cell_type": "markdown",
      "source": [
        "###### Point 4: Select the R-G-B component with the high contrast and use it in the next tasks."
      ],
      "metadata": {
        "id": "O1XV79HxKSkj"
      }
    },
    {
      "cell_type": "code",
      "source": [
        "def brightness(im: np.array) -> float:\n",
        "    \"\"\" Function to estimate the average light intensity.\n",
        "    \"\"\"\n",
        "    b = np.sum(im) / (im.shape[0] * im.shape[1])\n",
        "    return b\n",
        "\n",
        "def contrast(im: np.array) -> float:\n",
        "    \"\"\" Function to estimate the difference in intensities.\n",
        "    \"\"\"\n",
        "    b = brightness(im)\n",
        "    c = np.sum(np.square(im - b)) / (im.shape[0] * im.shape[1])\n",
        "    return c\n",
        "\n",
        "def find_image_highest_contrast(channels: list) -> int:\n",
        "  # TODO: Write the code for returning the index of the position with the \n",
        "  # highest contrast given a list that contains N channels\n",
        "  index = None\n",
        "  return index"
      ],
      "metadata": {
        "id": "YqdRKEahKDwo"
      },
      "execution_count": null,
      "outputs": []
    },
    {
      "cell_type": "code",
      "source": [
        "channel_name = ['red', 'green', 'blue', 'H', 'S', 'V']\n",
        "channels = [red_channel, green_channel, blue_channel, \n",
        "            h_channel, s_channel, v_channel]\n",
        "\n",
        "idx = find_image_highest_contrast(channels)\n",
        "highest_contrast_image = channels[idx]\n",
        "\n",
        "print(f'Channel with the highest contrast: {channel_name[idx]}')"
      ],
      "metadata": {
        "id": "hQnQ-L6jfBT3"
      },
      "execution_count": null,
      "outputs": []
    },
    {
      "cell_type": "markdown",
      "source": [
        "###### Point 5: Generate a set of 5 images through a 4-step iterative process of reducing by 2 the number of rows and columns of the original image. That is, if the original image has $N$ rows and $M$ columns, the sizes of the rest of the images will be $N/2$x$M/2$, $N/4$x$M/4$, $N/8$x$M/8$ and $N/16$x$M/16$."
      ],
      "metadata": {
        "id": "dJvjfe-eKrX-"
      }
    },
    {
      "cell_type": "code",
      "source": [
        "def halve_image(im: np.array, iterations: int) -> list:\n",
        "  # TODO: Write the code for halving an image. The output halved_ims should be \n",
        "  # a list of numpy arrays (image). The first element of the list should be \n",
        "  # the original image and the next one the ones (according to the number \n",
        "  # of iterations) the reduced versions of im. The reduced versions of \n",
        "  # the images should be an uint8 numpy array .\n",
        "\n",
        "  halved_ims = None\n",
        "  \n",
        "  return halved_ims"
      ],
      "metadata": {
        "id": "Ov2Rc8usK70T"
      },
      "execution_count": null,
      "outputs": []
    },
    {
      "cell_type": "code",
      "source": [
        "resized_images = halve_image(im=highest_contrast_image, iterations=4)\n",
        "\n",
        "fig, ax = plt.subplots(2, 3, figsize=(15, 5))\n",
        "\n",
        "fig.suptitle('Reduced images')\n",
        "ims = ax[0, 0].imshow(resized_images[0], cmap='gray', vmax=255, vmin=0)\n",
        "ax[0, 0].axis('off')\n",
        "ax[0, 0].set_title('Original image')\n",
        "ims = ax[0, 1].imshow(resized_images[1], cmap='gray', vmax=255, vmin=0)\n",
        "ax[0, 1].axis('off')\n",
        "ax[0, 1].set_title('N/2 x M/2')\n",
        "ims = ax[0, 2].imshow(resized_images[2], cmap='gray', vmax=255, vmin=0)\n",
        "ax[0, 2].axis('off')\n",
        "ax[0, 2].set_title('N/4 x M/4')\n",
        "ims = ax[1, 0].imshow(resized_images[3], cmap='gray', vmax=255, vmin=0)\n",
        "ax[1, 0].axis('off')\n",
        "ax[1, 0].set_title('N/8 x M/8')\n",
        "ims = ax[1, 1].imshow(resized_images[4], cmap='gray', vmax=255, vmin=0)\n",
        "ax[1, 1].axis('off')\n",
        "ax[1, 1].set_title('N/16 x M/16')\n",
        "ax[-1, -1].axis('off')\n",
        "\n",
        "\n",
        "fig.tight_layout(h_pad=2)\n",
        "plt.subplots_adjust(top=0.85)\n",
        "plt.show()"
      ],
      "metadata": {
        "id": "OW0xQ14NhZOL"
      },
      "execution_count": null,
      "outputs": []
    },
    {
      "cell_type": "markdown",
      "source": [
        "###### Point 6: Generate a set of 4 images, by reducing the number of bits used to represent the gray values of the original image by 2, three times."
      ],
      "metadata": {
        "id": "7h-LRjNX497I"
      }
    },
    {
      "cell_type": "code",
      "source": [
        "def color_depth_image(im: np.array, iterations: int) -> list:\n",
        "  # TODO: Write the code for halving an image. The output halved_ims should be \n",
        "  # a list of numpy arrays (image). The first element of the list should be \n",
        "  # the original image and the next one the ones (according to the number \n",
        "  # of iterations) the reduced versions in depth of im. The reduced versions of \n",
        "  # the images should be an uint8 numpy array .\n",
        "\n",
        "  dc_ims = None\n",
        "\n",
        "  return dc_ims"
      ],
      "metadata": {
        "id": "MM0LJLLZ482p"
      },
      "execution_count": null,
      "outputs": []
    },
    {
      "cell_type": "code",
      "source": [
        "cd_images = color_depth_image(im=highest_contrast_image, iterations=3)\n",
        "\n",
        "fig, ax = plt.subplots(2, 2, figsize=(15, 5))\n",
        "\n",
        "fig.suptitle('Reduced images')\n",
        "ims = ax[0, 0].imshow(cd_images[0], cmap='gray', vmax=255, vmin=0)\n",
        "ax[0, 0].axis('off')\n",
        "ax[0, 0].set_title('8 bits')\n",
        "ims = ax[0, 1].imshow(cd_images[1], cmap='gray', vmax=255, vmin=0)\n",
        "ax[0, 1].axis('off')\n",
        "ax[0, 1].set_title('4 bits')\n",
        "ims = ax[1, 0].imshow(cd_images[2], cmap='gray', vmax=255, vmin=0)\n",
        "ax[1, 0].axis('off')\n",
        "ax[1, 0].set_title('2 bits')\n",
        "ims = ax[1, 1].imshow(cd_images[2], cmap='gray', vmax=255, vmin=0)\n",
        "ax[1, 1].axis('off')\n",
        "ax[1, 1].set_title('1 bit')\n",
        "\n",
        "fig.tight_layout(h_pad=2)\n",
        "plt.subplots_adjust(top=0.85)\n",
        "plt.show()"
      ],
      "metadata": {
        "id": "Ca3Eq7447O7W"
      },
      "execution_count": null,
      "outputs": []
    }
  ]
}